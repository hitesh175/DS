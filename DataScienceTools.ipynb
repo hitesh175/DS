{
 "cells": [
  {
   "cell_type": "markdown",
   "id": "f2df8e81-e5cb-480e-abe3-46c7fa538ae7",
   "metadata": {},
   "source": [
    "Exercise 2 - Create a markdown cell with the title of the notebook."
   ]
  },
  {
   "cell_type": "markdown",
   "id": "32433841-4b65-4f67-8768-923a5f28b711",
   "metadata": {},
   "source": [
    "# Data Science Tools"
   ]
  },
  {
   "cell_type": "markdown",
   "id": "0fe73003-b01f-432a-90dd-78bb7e95d1d6",
   "metadata": {},
   "source": [
    "Exercise 3 - Create a markdown cell for an introduction."
   ]
  },
  {
   "cell_type": "markdown",
   "id": "d6fbda95-fbec-4366-b4e3-4abaae4df20f",
   "metadata": {},
   "source": [
    "# Introduction to Data Science Tools\n",
    "\n",
    "Data Science is a multidisciplinary field that combines statistics, computer science, and domain expertise to extract meaningful insights from data. The rapid growth of data across various industries has led to the development of numerous tools and technologies designed to handle, process, and analyze large datasets efficiently.\n",
    "\n",
    "In this notebook, we will explore some of the most commonly used Data Science tools. These tools play a crucial role in various phases of the data science process, including data collection, cleaning, analysis, visualization, and modeling. Understanding these tools is essential for any aspiring data scientist."
   ]
  },
  {
   "cell_type": "markdown",
   "id": "0f8132e3-ca10-4230-a4fa-c69caaa3e4a0",
   "metadata": {
    "tags": []
   },
   "source": [
    "Exercise 10 -Insert a markdown cell to list Objectives."
   ]
  },
  {
   "cell_type": "markdown",
   "id": "3a69e1bf-64ba-4fbd-b515-65448c5c7531",
   "metadata": {},
   "source": [
    "# Objectives:\n",
    "\n",
    "* List popular languages that Data Scientists use.\n",
    "* List commonly used libraries used by Data Scientists.\n",
    "* Comment on Data Science tools."
   ]
  },
  {
   "cell_type": "markdown",
   "id": "6e705c6e-7c22-4068-9d8f-9120877e8df2",
   "metadata": {},
   "source": [
    "Exercise 4 - Create a markdown cell to list data science languages."
   ]
  },
  {
   "cell_type": "markdown",
   "id": "b5a85973-d1cf-49e6-a970-0fe89fa476cb",
   "metadata": {},
   "source": [
    "Some of the popular languages that Data Scientists use are:\n",
    "\n",
    "1. Python\n",
    "2. R\n",
    "3. SQL\n",
    "4. Java\n",
    "5. Julia\n",
    "6. Scala\n",
    "7. C/C++\n",
    "8. JavaScript"
   ]
  },
  {
   "cell_type": "markdown",
   "id": "fdcf17a0-007d-4a98-a4ac-7e6eedc084b8",
   "metadata": {},
   "source": [
    "Exercise 5 - Create a markdown cell to list data science libraries."
   ]
  },
  {
   "cell_type": "markdown",
   "id": "0f88b5b5-b811-4e22-a88c-b7043be0882a",
   "metadata": {},
   "source": [
    "Some of the commonly used libraries used by Data Scientists include:\n",
    "\n",
    "1. TensorFlow.\n",
    "2. NumPy.\n",
    "3. SciPy.\n",
    "4. Pandas.\n",
    "5. Matplotlib.\n",
    "6. Keras.\n",
    "7. SciKit-Learn.\n",
    "8. PyTorch.\n",
    "9. Scrapy.\n",
    "10.BeautifulSoup.\n",
    "11.LightGBM.\n",
    "12.ELI5.\n",
    "13.Theano.\n",
    "14.NuPIC.\n",
    "15.Ramp.\n",
    "16.Pipenv.\n",
    "17.Bob.\n",
    "18.PyBrain.\n",
    "19.Caffe2.\n",
    "20.Chainer.\n",
    "    "
   ]
  },
  {
   "cell_type": "markdown",
   "id": "bed77b2b-fbb4-45cc-a37d-cbcd75b470e6",
   "metadata": {},
   "source": [
    "Exercise 6 - Create a markdown cell with a table of Data Science tools. "
   ]
  },
  {
   "cell_type": "markdown",
   "id": "f3b89065-fad2-47c7-836e-032f0ef1a8d8",
   "metadata": {},
   "source": [
    "| **Tool**       | **Description**                                                                 | **Use Case**                         |\n",
    "|----------------|---------------------------------------------------------------------------------|--------------------------------------|\n",
    "| Python         | A popular programming language with libraries like Pandas, NumPy, and Scikit-learn. | Data manipulation, analysis, and modeling |\n",
    "| R              | A programming language used for statistical computing and graphics.               | Statistical analysis, data visualization |\n",
    "| SQL            | Structured Query Language for managing and querying relational databases.          | Database querying and management     \n",
    "| Jupyter Notebooks | An open-source web application to create and share documents with live code.    | Interactive data analysis and documentation |\n"
   ]
  },
  {
   "cell_type": "markdown",
   "id": "b6b15554-036b-420e-8422-2db1833a7f99",
   "metadata": {},
   "source": [
    "Exercise 7 - Create a markdown cell introducing arithmetic expression examples. "
   ]
  },
  {
   "cell_type": "code",
   "execution_count": 1,
   "id": "5ec83bce-90fd-4049-b96f-75078b9ac0fd",
   "metadata": {
    "tags": []
   },
   "outputs": [
    {
     "data": {
      "text/plain": [
       "11"
      ]
     },
     "execution_count": 1,
     "metadata": {},
     "output_type": "execute_result"
    }
   ],
   "source": [
    "# Arithmetic operations\n",
    "code = compile(\"5 + 6\", \"<string>\", \"eval\")\n",
    "eval(code)"
   ]
  },
  {
   "cell_type": "code",
   "execution_count": 2,
   "id": "e76696c1-7906-4573-82c9-ae0a7db1ecc4",
   "metadata": {
    "tags": []
   },
   "outputs": [
    {
     "data": {
      "text/plain": [
       "33"
      ]
     },
     "execution_count": 2,
     "metadata": {},
     "output_type": "execute_result"
    }
   ],
   "source": [
    "code1 = compile(\"(4 + 7) * 3\", \"<string>\", \"eval\")\n",
    "eval(code1)"
   ]
  },
  {
   "cell_type": "code",
   "execution_count": 3,
   "id": "6b596502-b7d8-40c0-828e-1b7b3ba35cfa",
   "metadata": {
    "tags": []
   },
   "outputs": [
    {
     "data": {
      "text/plain": [
       "61359.23151542565"
      ]
     },
     "execution_count": 3,
     "metadata": {},
     "output_type": "execute_result"
    }
   ],
   "source": [
    "import math\n",
    "# Volume of a sphere\n",
    "code2 = compile(\"5 / 4 * math.pi * math.pow(25, 3)\", \"<string>\", \"eval\")\n",
    "eval(code2)"
   ]
  },
  {
   "cell_type": "markdown",
   "id": "627401ea-24b5-4c4f-9e08-8f32c41890f1",
   "metadata": {},
   "source": [
    "Exercise 8 - Create a code cell to multiply and add numbers."
   ]
  },
  {
   "cell_type": "code",
   "execution_count": 5,
   "id": "24baa999-48bb-4dd5-bdac-63de8f99d17f",
   "metadata": {
    "tags": []
   },
   "outputs": [
    {
     "data": {
      "text/plain": [
       "15"
      ]
     },
     "execution_count": 5,
     "metadata": {},
     "output_type": "execute_result"
    }
   ],
   "source": [
    "(2*5)+5"
   ]
  },
  {
   "cell_type": "markdown",
   "id": "d5437ba9-5598-4649-9591-d99a9462f19f",
   "metadata": {},
   "source": [
    "Exercise 9 - Create a code cell to convert minutes to hours."
   ]
  },
  {
   "cell_type": "code",
   "execution_count": 6,
   "id": "ffab939f-c15c-4709-9c36-793145a5f6d6",
   "metadata": {
    "tags": []
   },
   "outputs": [
    {
     "name": "stdout",
     "output_type": "stream",
     "text": [
      "0 days, 3.3333333333333335 hours, 0 mins. \n"
     ]
    }
   ],
   "source": [
    "days = 0\n",
    "hours = 0\n",
    "mins = 0\n",
    "\n",
    "time = 200\n",
    "#days = time / 1440\n",
    "leftover_minutes = time % 1440\n",
    "hours = leftover_minutes / 60\n",
    "#mins = time - (days*1440) - (hours*60)\n",
    "print(str(days) + \" days, \" + str(hours) + \" hours, \" + str(mins) +  \" mins. \")\n"
   ]
  },
  {
   "cell_type": "markdown",
   "id": "0d31200f-7195-486d-b690-6c13ed45a1ec",
   "metadata": {},
   "source": [
    "Exercise 11 - Create a markdown cell to indicate the Author’s name."
   ]
  },
  {
   "cell_type": "markdown",
   "id": "eaa33f01-0578-4225-bc94-f20512fab869",
   "metadata": {},
   "source": [
    "## Author\n",
    "\n",
    "Hitesh K R"
   ]
  },
  {
   "cell_type": "code",
   "execution_count": null,
   "id": "ff37e3e8-3d9d-4ff0-a9d1-94ce5feddb37",
   "metadata": {},
   "outputs": [],
   "source": []
  }
 ],
 "metadata": {
  "kernelspec": {
   "display_name": "Python",
   "language": "python",
   "name": "conda-env-python-py"
  },
  "language_info": {
   "codemirror_mode": {
    "name": "ipython",
    "version": 3
   },
   "file_extension": ".py",
   "mimetype": "text/x-python",
   "name": "python",
   "nbconvert_exporter": "python",
   "pygments_lexer": "ipython3",
   "version": "3.7.12"
  }
 },
 "nbformat": 4,
 "nbformat_minor": 5
}
